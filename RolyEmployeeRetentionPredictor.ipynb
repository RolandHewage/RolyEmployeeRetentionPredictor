{
  "nbformat": 4,
  "nbformat_minor": 0,
  "metadata": {
    "colab": {
      "name": "RolyEmployeeRetentionPredictor.ipynb",
      "version": "0.3.2",
      "provenance": [],
      "include_colab_link": true
    },
    "kernelspec": {
      "name": "python3",
      "display_name": "Python 3"
    }
  },
  "cells": [
    {
      "cell_type": "markdown",
      "metadata": {
        "id": "view-in-github",
        "colab_type": "text"
      },
      "source": [
        "<a href=\"https://colab.research.google.com/github/RolandHewage/RolyEmployeeRetentionPredictor/blob/master/RolyEmployeeRetentionPredictor.ipynb\" target=\"_parent\"><img src=\"https://colab.research.google.com/assets/colab-badge.svg\" alt=\"Open In Colab\"/></a>"
      ]
    },
    {
      "cell_type": "code",
      "metadata": {
        "id": "ZBKS-cxzi88a",
        "colab_type": "code",
        "colab": {}
      },
      "source": [
        "import pandas as pd\n",
        "import numpy as np\n",
        "df = pd.read_csv(\"https://raw.githubusercontent.com/mwitiderrick/kerasDO/master/HR_comma_sep.csv\")"
      ],
      "execution_count": 0,
      "outputs": []
    },
    {
      "cell_type": "code",
      "metadata": {
        "id": "JUmCm8kXjqoe",
        "colab_type": "code",
        "colab": {
          "base_uri": "https://localhost:8080/",
          "height": 224
        },
        "outputId": "2f417e99-1166-4013-d6b1-e182feffa53e"
      },
      "source": [
        "df.head()"
      ],
      "execution_count": 2,
      "outputs": [
        {
          "output_type": "execute_result",
          "data": {
            "text/html": [
              "<div>\n",
              "<style scoped>\n",
              "    .dataframe tbody tr th:only-of-type {\n",
              "        vertical-align: middle;\n",
              "    }\n",
              "\n",
              "    .dataframe tbody tr th {\n",
              "        vertical-align: top;\n",
              "    }\n",
              "\n",
              "    .dataframe thead th {\n",
              "        text-align: right;\n",
              "    }\n",
              "</style>\n",
              "<table border=\"1\" class=\"dataframe\">\n",
              "  <thead>\n",
              "    <tr style=\"text-align: right;\">\n",
              "      <th></th>\n",
              "      <th>satisfaction_level</th>\n",
              "      <th>last_evaluation</th>\n",
              "      <th>number_project</th>\n",
              "      <th>average_montly_hours</th>\n",
              "      <th>time_spend_company</th>\n",
              "      <th>Work_accident</th>\n",
              "      <th>left</th>\n",
              "      <th>promotion_last_5years</th>\n",
              "      <th>department</th>\n",
              "      <th>salary</th>\n",
              "    </tr>\n",
              "  </thead>\n",
              "  <tbody>\n",
              "    <tr>\n",
              "      <th>0</th>\n",
              "      <td>0.38</td>\n",
              "      <td>0.53</td>\n",
              "      <td>2</td>\n",
              "      <td>157</td>\n",
              "      <td>3</td>\n",
              "      <td>0</td>\n",
              "      <td>1</td>\n",
              "      <td>0</td>\n",
              "      <td>sales</td>\n",
              "      <td>low</td>\n",
              "    </tr>\n",
              "    <tr>\n",
              "      <th>1</th>\n",
              "      <td>0.80</td>\n",
              "      <td>0.86</td>\n",
              "      <td>5</td>\n",
              "      <td>262</td>\n",
              "      <td>6</td>\n",
              "      <td>0</td>\n",
              "      <td>1</td>\n",
              "      <td>0</td>\n",
              "      <td>sales</td>\n",
              "      <td>medium</td>\n",
              "    </tr>\n",
              "    <tr>\n",
              "      <th>2</th>\n",
              "      <td>0.11</td>\n",
              "      <td>0.88</td>\n",
              "      <td>7</td>\n",
              "      <td>272</td>\n",
              "      <td>4</td>\n",
              "      <td>0</td>\n",
              "      <td>1</td>\n",
              "      <td>0</td>\n",
              "      <td>sales</td>\n",
              "      <td>medium</td>\n",
              "    </tr>\n",
              "    <tr>\n",
              "      <th>3</th>\n",
              "      <td>0.72</td>\n",
              "      <td>0.87</td>\n",
              "      <td>5</td>\n",
              "      <td>223</td>\n",
              "      <td>5</td>\n",
              "      <td>0</td>\n",
              "      <td>1</td>\n",
              "      <td>0</td>\n",
              "      <td>sales</td>\n",
              "      <td>low</td>\n",
              "    </tr>\n",
              "    <tr>\n",
              "      <th>4</th>\n",
              "      <td>0.37</td>\n",
              "      <td>0.52</td>\n",
              "      <td>2</td>\n",
              "      <td>159</td>\n",
              "      <td>3</td>\n",
              "      <td>0</td>\n",
              "      <td>1</td>\n",
              "      <td>0</td>\n",
              "      <td>sales</td>\n",
              "      <td>low</td>\n",
              "    </tr>\n",
              "  </tbody>\n",
              "</table>\n",
              "</div>"
            ],
            "text/plain": [
              "   satisfaction_level  last_evaluation  ...  department  salary\n",
              "0                0.38             0.53  ...       sales     low\n",
              "1                0.80             0.86  ...       sales  medium\n",
              "2                0.11             0.88  ...       sales  medium\n",
              "3                0.72             0.87  ...       sales     low\n",
              "4                0.37             0.52  ...       sales     low\n",
              "\n",
              "[5 rows x 10 columns]"
            ]
          },
          "metadata": {
            "tags": []
          },
          "execution_count": 2
        }
      ]
    },
    {
      "cell_type": "code",
      "metadata": {
        "id": "hqII0EUfkZQ5",
        "colab_type": "code",
        "colab": {}
      },
      "source": [
        "feats = ['department','salary']\n",
        "df_final = pd.get_dummies(df,columns=feats,drop_first=True)"
      ],
      "execution_count": 0,
      "outputs": []
    },
    {
      "cell_type": "code",
      "metadata": {
        "id": "j7UP4jsOlNBd",
        "colab_type": "code",
        "colab": {}
      },
      "source": [
        "from sklearn.model_selection import train_test_split"
      ],
      "execution_count": 0,
      "outputs": []
    },
    {
      "cell_type": "code",
      "metadata": {
        "id": "XLPBL-qJm9_S",
        "colab_type": "code",
        "colab": {}
      },
      "source": [
        "X = df_final.drop(['left'],axis=1).values\n",
        "y = df_final['left'].values"
      ],
      "execution_count": 0,
      "outputs": []
    },
    {
      "cell_type": "code",
      "metadata": {
        "id": "0yyDydAEnApe",
        "colab_type": "code",
        "colab": {}
      },
      "source": [
        "X_train, X_test, y_train, y_test = train_test_split(X, y, test_size=0.3)"
      ],
      "execution_count": 0,
      "outputs": []
    },
    {
      "cell_type": "code",
      "metadata": {
        "id": "cRf_rsXjoPQh",
        "colab_type": "code",
        "colab": {}
      },
      "source": [
        "from sklearn.preprocessing import StandardScaler\n",
        "sc = StandardScaler()\n",
        "X_train = sc.fit_transform(X_train)\n",
        "X_test = sc.transform(X_test)"
      ],
      "execution_count": 0,
      "outputs": []
    },
    {
      "cell_type": "code",
      "metadata": {
        "id": "fvTdLA6Oo_sj",
        "colab_type": "code",
        "colab": {
          "base_uri": "https://localhost:8080/",
          "height": 34
        },
        "outputId": "2c4cd274-158c-4bed-983d-b58cf06fd630"
      },
      "source": [
        "import keras\n",
        "from keras.models import Sequential\n",
        "from keras.layers import Dense"
      ],
      "execution_count": 8,
      "outputs": [
        {
          "output_type": "stream",
          "text": [
            "Using TensorFlow backend.\n"
          ],
          "name": "stderr"
        }
      ]
    },
    {
      "cell_type": "code",
      "metadata": {
        "id": "YWHxMa71pSyd",
        "colab_type": "code",
        "colab": {
          "base_uri": "https://localhost:8080/",
          "height": 88
        },
        "outputId": "586e16a2-57c4-4e7f-f64a-1144725339a5"
      },
      "source": [
        "classifier = Sequential()"
      ],
      "execution_count": 9,
      "outputs": [
        {
          "output_type": "stream",
          "text": [
            "WARNING: Logging before flag parsing goes to stderr.\n",
            "W0830 11:01:50.390137 139934237353856 deprecation_wrapper.py:119] From /usr/local/lib/python3.6/dist-packages/keras/backend/tensorflow_backend.py:66: The name tf.get_default_graph is deprecated. Please use tf.compat.v1.get_default_graph instead.\n",
            "\n"
          ],
          "name": "stderr"
        }
      ]
    },
    {
      "cell_type": "code",
      "metadata": {
        "id": "V3eyXqb-piac",
        "colab_type": "code",
        "colab": {
          "base_uri": "https://localhost:8080/",
          "height": 105
        },
        "outputId": "a5dda181-eddf-4f10-937f-1c40746d52e7"
      },
      "source": [
        "classifier.add(Dense(9, kernel_initializer = \"uniform\",activation = \"relu\", input_dim=18))"
      ],
      "execution_count": 10,
      "outputs": [
        {
          "output_type": "stream",
          "text": [
            "W0830 11:01:53.689514 139934237353856 deprecation_wrapper.py:119] From /usr/local/lib/python3.6/dist-packages/keras/backend/tensorflow_backend.py:541: The name tf.placeholder is deprecated. Please use tf.compat.v1.placeholder instead.\n",
            "\n",
            "W0830 11:01:53.693430 139934237353856 deprecation_wrapper.py:119] From /usr/local/lib/python3.6/dist-packages/keras/backend/tensorflow_backend.py:4432: The name tf.random_uniform is deprecated. Please use tf.random.uniform instead.\n",
            "\n"
          ],
          "name": "stderr"
        }
      ]
    },
    {
      "cell_type": "code",
      "metadata": {
        "id": "NPfd-xNJqcKw",
        "colab_type": "code",
        "colab": {}
      },
      "source": [
        "classifier.add(Dense(1, kernel_initializer = \"uniform\",activation = \"sigmoid\"))"
      ],
      "execution_count": 0,
      "outputs": []
    },
    {
      "cell_type": "code",
      "metadata": {
        "id": "vYu1QphwrHjm",
        "colab_type": "code",
        "colab": {
          "base_uri": "https://localhost:8080/",
          "height": 156
        },
        "outputId": "e68edf6b-1046-4f98-d9c0-4c035adde2b9"
      },
      "source": [
        "classifier.compile(optimizer= \"adam\",loss = \"binary_crossentropy\",metrics = [\"accuracy\"])"
      ],
      "execution_count": 12,
      "outputs": [
        {
          "output_type": "stream",
          "text": [
            "W0830 11:01:59.356505 139934237353856 deprecation_wrapper.py:119] From /usr/local/lib/python3.6/dist-packages/keras/optimizers.py:793: The name tf.train.Optimizer is deprecated. Please use tf.compat.v1.train.Optimizer instead.\n",
            "\n",
            "W0830 11:01:59.392166 139934237353856 deprecation_wrapper.py:119] From /usr/local/lib/python3.6/dist-packages/keras/backend/tensorflow_backend.py:3657: The name tf.log is deprecated. Please use tf.math.log instead.\n",
            "\n",
            "W0830 11:01:59.399363 139934237353856 deprecation.py:323] From /usr/local/lib/python3.6/dist-packages/tensorflow/python/ops/nn_impl.py:180: add_dispatch_support.<locals>.wrapper (from tensorflow.python.ops.array_ops) is deprecated and will be removed in a future version.\n",
            "Instructions for updating:\n",
            "Use tf.where in 2.0, which has the same broadcast rule as np.where\n"
          ],
          "name": "stderr"
        }
      ]
    },
    {
      "cell_type": "code",
      "metadata": {
        "id": "vPthig2TrLuQ",
        "colab_type": "code",
        "colab": {
          "base_uri": "https://localhost:8080/",
          "height": 122
        },
        "outputId": "557020c1-758c-4937-a279-bb7676f93024"
      },
      "source": [
        "classifier.fit(X_train, y_train, batch_size = 10, epochs = 1)"
      ],
      "execution_count": 13,
      "outputs": [
        {
          "output_type": "stream",
          "text": [
            "W0830 11:02:03.635227 139934237353856 deprecation_wrapper.py:119] From /usr/local/lib/python3.6/dist-packages/keras/backend/tensorflow_backend.py:1033: The name tf.assign_add is deprecated. Please use tf.compat.v1.assign_add instead.\n",
            "\n"
          ],
          "name": "stderr"
        },
        {
          "output_type": "stream",
          "text": [
            "Epoch 1/1\n",
            "10499/10499 [==============================] - 1s 135us/step - loss: 0.4329 - acc: 0.7995\n"
          ],
          "name": "stdout"
        },
        {
          "output_type": "execute_result",
          "data": {
            "text/plain": [
              "<keras.callbacks.History at 0x7f44d6e6ecc0>"
            ]
          },
          "metadata": {
            "tags": []
          },
          "execution_count": 13
        }
      ]
    },
    {
      "cell_type": "code",
      "metadata": {
        "id": "VcQ8LxtqrMty",
        "colab_type": "code",
        "colab": {}
      },
      "source": [
        "y_pred = classifier.predict(X_test)\n"
      ],
      "execution_count": 0,
      "outputs": []
    },
    {
      "cell_type": "code",
      "metadata": {
        "id": "ZkoXNie2s5Tz",
        "colab_type": "code",
        "colab": {}
      },
      "source": [
        "y_pred = (y_pred > 0.5)\n"
      ],
      "execution_count": 0,
      "outputs": []
    },
    {
      "cell_type": "code",
      "metadata": {
        "id": "jVw95DO4s7Lp",
        "colab_type": "code",
        "colab": {
          "base_uri": "https://localhost:8080/",
          "height": 51
        },
        "outputId": "b03e20af-edbb-4ad9-9d60-c03cfb681bcb"
      },
      "source": [
        "from sklearn.metrics import confusion_matrix\n",
        "cm = confusion_matrix(y_test, y_pred)\n",
        "cm"
      ],
      "execution_count": 16,
      "outputs": [
        {
          "output_type": "execute_result",
          "data": {
            "text/plain": [
              "array([[3288,  100],\n",
              "       [ 631,  481]])"
            ]
          },
          "metadata": {
            "tags": []
          },
          "execution_count": 16
        }
      ]
    },
    {
      "cell_type": "code",
      "metadata": {
        "id": "romaczgPs7SS",
        "colab_type": "code",
        "colab": {}
      },
      "source": [
        "new_pred = classifier.predict(sc.transform(np.array([[0.26,0.7 ,3., 238., 6., 0.,0.,0.,0., 0.,0.,0.,0.,0.,1.,0., 0.,1.]])))"
      ],
      "execution_count": 0,
      "outputs": []
    },
    {
      "cell_type": "code",
      "metadata": {
        "id": "oJr3hfFXumUU",
        "colab_type": "code",
        "colab": {
          "base_uri": "https://localhost:8080/",
          "height": 34
        },
        "outputId": "4df226dd-70e1-43d1-a2b6-78361963c550"
      },
      "source": [
        "new_pred = (new_pred > 0.5)\n",
        "new_pred"
      ],
      "execution_count": 18,
      "outputs": [
        {
          "output_type": "execute_result",
          "data": {
            "text/plain": [
              "array([[False]])"
            ]
          },
          "metadata": {
            "tags": []
          },
          "execution_count": 18
        }
      ]
    },
    {
      "cell_type": "code",
      "metadata": {
        "id": "FcvhVoMRumYc",
        "colab_type": "code",
        "colab": {
          "base_uri": "https://localhost:8080/",
          "height": 34
        },
        "outputId": "58cf9201-016e-4bb9-a293-6d3cbd54c5c9"
      },
      "source": [
        "new_pred = (new_pred > 0.6)\n",
        "new_pred"
      ],
      "execution_count": 19,
      "outputs": [
        {
          "output_type": "execute_result",
          "data": {
            "text/plain": [
              "array([[False]])"
            ]
          },
          "metadata": {
            "tags": []
          },
          "execution_count": 19
        }
      ]
    },
    {
      "cell_type": "code",
      "metadata": {
        "id": "mBkloohvGoru",
        "colab_type": "code",
        "colab": {}
      },
      "source": [
        "from keras.wrappers.scikit_learn import KerasClassifier\n",
        "from sklearn.model_selection import cross_val_score"
      ],
      "execution_count": 0,
      "outputs": []
    },
    {
      "cell_type": "code",
      "metadata": {
        "id": "Q2RkTvU9G5kt",
        "colab_type": "code",
        "colab": {}
      },
      "source": [
        "def make_classifier():\n",
        "    classifier = Sequential()\n",
        "    classifier.add(Dense(9, kernel_initializer = \"uniform\", activation = \"relu\", input_dim=18))\n",
        "    classifier.add(Dense(1, kernel_initializer = \"uniform\", activation = \"sigmoid\"))\n",
        "    classifier.compile(optimizer= \"adam\",loss = \"binary_crossentropy\",metrics = [\"accuracy\"])\n",
        "    return classifier"
      ],
      "execution_count": 0,
      "outputs": []
    },
    {
      "cell_type": "code",
      "metadata": {
        "id": "XRY2md7DHRKh",
        "colab_type": "code",
        "colab": {}
      },
      "source": [
        "classifier = KerasClassifier(build_fn = make_classifier, batch_size=10, nb_epoch=1)"
      ],
      "execution_count": 0,
      "outputs": []
    },
    {
      "cell_type": "code",
      "metadata": {
        "id": "zN7mAleOHT-F",
        "colab_type": "code",
        "colab": {}
      },
      "source": [
        "accuracies = cross_val_score(estimator = classifier,X = X_train,y = y_train,cv = 10,n_jobs = -1)\n"
      ],
      "execution_count": 0,
      "outputs": []
    },
    {
      "cell_type": "code",
      "metadata": {
        "id": "hqWYtY6fMYGW",
        "colab_type": "code",
        "colab": {
          "base_uri": "https://localhost:8080/",
          "height": 34
        },
        "outputId": "50392b60-c3d5-4ca8-8612-0e86ca980645"
      },
      "source": [
        "mean = accuracies.mean()\n",
        "mean"
      ],
      "execution_count": 24,
      "outputs": [
        {
          "output_type": "execute_result",
          "data": {
            "text/plain": [
              "0.8328378002413002"
            ]
          },
          "metadata": {
            "tags": []
          },
          "execution_count": 24
        }
      ]
    },
    {
      "cell_type": "code",
      "metadata": {
        "id": "FXHpqWUGMdpd",
        "colab_type": "code",
        "colab": {
          "base_uri": "https://localhost:8080/",
          "height": 34
        },
        "outputId": "03492498-5f54-4db1-8e0d-255783a76f3d"
      },
      "source": [
        "variance = accuracies.var()\n",
        "variance"
      ],
      "execution_count": 25,
      "outputs": [
        {
          "output_type": "execute_result",
          "data": {
            "text/plain": [
              "0.0031894569458912224"
            ]
          },
          "metadata": {
            "tags": []
          },
          "execution_count": 25
        }
      ]
    },
    {
      "cell_type": "code",
      "metadata": {
        "id": "Yv4WD3wyMkWm",
        "colab_type": "code",
        "colab": {
          "base_uri": "https://localhost:8080/",
          "height": 88
        },
        "outputId": "ef7a7234-ce2c-491f-df1f-f32793d58856"
      },
      "source": [
        "from keras.layers import Dropout\n",
        "\n",
        "classifier = Sequential()\n",
        "classifier.add(Dense(9, kernel_initializer = \"uniform\", activation = \"relu\", input_dim=18))\n",
        "classifier.add(Dropout(rate = 0.1))\n",
        "classifier.add(Dense(1, kernel_initializer = \"uniform\", activation = \"sigmoid\"))\n",
        "classifier.compile(optimizer= \"adam\",loss = \"binary_crossentropy\",metrics = [\"accuracy\"])"
      ],
      "execution_count": 26,
      "outputs": [
        {
          "output_type": "stream",
          "text": [
            "W0830 11:04:23.716876 139934237353856 deprecation.py:506] From /usr/local/lib/python3.6/dist-packages/keras/backend/tensorflow_backend.py:3733: calling dropout (from tensorflow.python.ops.nn_ops) with keep_prob is deprecated and will be removed in a future version.\n",
            "Instructions for updating:\n",
            "Please use `rate` instead of `keep_prob`. Rate should be set to `rate = 1 - keep_prob`.\n"
          ],
          "name": "stderr"
        }
      ]
    },
    {
      "cell_type": "code",
      "metadata": {
        "id": "Nm0Uwi1VMq5C",
        "colab_type": "code",
        "colab": {}
      },
      "source": [
        "from sklearn.model_selection import GridSearchCV\n",
        "def make_classifier(optimizer):\n",
        "    classifier = Sequential()\n",
        "    classifier.add(Dense(9, kernel_initializer = \"uniform\", activation = \"relu\", input_dim=18))\n",
        "    classifier.add(Dense(1, kernel_initializer = \"uniform\", activation = \"sigmoid\"))\n",
        "    classifier.compile(optimizer= optimizer,loss = \"binary_crossentropy\",metrics = [\"accuracy\"])\n",
        "    return classifier"
      ],
      "execution_count": 0,
      "outputs": []
    },
    {
      "cell_type": "code",
      "metadata": {
        "id": "IgKoSCqmMwzJ",
        "colab_type": "code",
        "colab": {}
      },
      "source": [
        "classifier = KerasClassifier(build_fn = make_classifier)"
      ],
      "execution_count": 0,
      "outputs": []
    },
    {
      "cell_type": "code",
      "metadata": {
        "id": "ZNhxk0knM4L4",
        "colab_type": "code",
        "colab": {}
      },
      "source": [
        "params = {\n",
        "    'batch_size':[20,35],\n",
        "    'epochs':[2,3],\n",
        "    'optimizer':['adam','rmsprop']\n",
        "}"
      ],
      "execution_count": 0,
      "outputs": []
    },
    {
      "cell_type": "code",
      "metadata": {
        "id": "fp861v26M-Ke",
        "colab_type": "code",
        "colab": {}
      },
      "source": [
        "grid_search = GridSearchCV(estimator=classifier,\n",
        "                           param_grid=params,\n",
        "                           scoring=\"accuracy\",\n",
        "                           cv=2)"
      ],
      "execution_count": 0,
      "outputs": []
    },
    {
      "cell_type": "code",
      "metadata": {
        "id": "n2z5aan_NHnZ",
        "colab_type": "code",
        "colab": {
          "base_uri": "https://localhost:8080/",
          "height": 1000
        },
        "outputId": "feacde85-00f1-4420-f144-545474f40414"
      },
      "source": [
        "grid_search = grid_search.fit(X_train,y_train)"
      ],
      "execution_count": 31,
      "outputs": [
        {
          "output_type": "stream",
          "text": [
            "Epoch 1/2\n",
            "5249/5249 [==============================] - 1s 98us/step - loss: 0.5706 - acc: 0.7664\n",
            "Epoch 2/2\n",
            "5249/5249 [==============================] - 0s 60us/step - loss: 0.4121 - acc: 0.7664\n",
            "Epoch 1/2\n",
            "5250/5250 [==============================] - 1s 96us/step - loss: 0.5908 - acc: 0.7613\n",
            "Epoch 2/2\n",
            "5250/5250 [==============================] - 0s 60us/step - loss: 0.4020 - acc: 0.8269\n",
            "Epoch 1/2\n",
            "5249/5249 [==============================] - 1s 96us/step - loss: 0.5961 - acc: 0.7643\n",
            "Epoch 2/2\n",
            "5249/5249 [==============================] - 0s 59us/step - loss: 0.4403 - acc: 0.7916\n",
            "Epoch 1/2\n",
            "5250/5250 [==============================] - 1s 100us/step - loss: 0.5840 - acc: 0.7650\n",
            "Epoch 2/2\n",
            "5250/5250 [==============================] - 0s 58us/step - loss: 0.4316 - acc: 0.7882\n",
            "Epoch 1/3\n",
            "5249/5249 [==============================] - 1s 115us/step - loss: 0.5699 - acc: 0.7651\n",
            "Epoch 2/3\n",
            "5249/5249 [==============================] - 0s 61us/step - loss: 0.3963 - acc: 0.7990\n",
            "Epoch 3/3\n",
            "5249/5249 [==============================] - 0s 61us/step - loss: 0.3368 - acc: 0.8203\n",
            "Epoch 1/3\n",
            "5250/5250 [==============================] - 1s 125us/step - loss: 0.5733 - acc: 0.7627\n",
            "Epoch 2/3\n",
            "5250/5250 [==============================] - 0s 58us/step - loss: 0.4040 - acc: 0.7943\n",
            "Epoch 3/3\n",
            "5250/5250 [==============================] - 0s 62us/step - loss: 0.3490 - acc: 0.8278\n",
            "Epoch 1/3\n",
            "5249/5249 [==============================] - 1s 119us/step - loss: 0.6167 - acc: 0.7721\n",
            "Epoch 2/3\n",
            "5249/5249 [==============================] - 0s 60us/step - loss: 0.4490 - acc: 0.8095\n",
            "Epoch 3/3\n",
            "5249/5249 [==============================] - 0s 60us/step - loss: 0.3496 - acc: 0.8436\n",
            "Epoch 1/3\n",
            "5250/5250 [==============================] - 1s 125us/step - loss: 0.5903 - acc: 0.7644\n",
            "Epoch 2/3\n",
            "5250/5250 [==============================] - 0s 62us/step - loss: 0.4267 - acc: 0.7905\n",
            "Epoch 3/3\n",
            "5250/5250 [==============================] - 0s 61us/step - loss: 0.3514 - acc: 0.8453\n",
            "Epoch 1/2\n",
            "5249/5249 [==============================] - 1s 114us/step - loss: 0.6279 - acc: 0.7643\n",
            "Epoch 2/2\n",
            "5249/5249 [==============================] - 0s 35us/step - loss: 0.4641 - acc: 0.7899\n",
            "Epoch 1/2\n",
            "5250/5250 [==============================] - 1s 123us/step - loss: 0.6327 - acc: 0.7615\n",
            "Epoch 2/2\n",
            "5250/5250 [==============================] - 0s 36us/step - loss: 0.4652 - acc: 0.7684\n",
            "Epoch 1/2\n",
            "5249/5249 [==============================] - 1s 121us/step - loss: 0.6476 - acc: 0.7586\n",
            "Epoch 2/2\n",
            "5249/5249 [==============================] - 0s 36us/step - loss: 0.5262 - acc: 0.7862\n",
            "Epoch 1/2\n",
            "5250/5250 [==============================] - 1s 123us/step - loss: 0.6376 - acc: 0.7611\n",
            "Epoch 2/2\n",
            "5250/5250 [==============================] - 0s 35us/step - loss: 0.5040 - acc: 0.7760\n",
            "Epoch 1/3\n",
            "5249/5249 [==============================] - 1s 145us/step - loss: 0.6330 - acc: 0.7647\n",
            "Epoch 2/3\n",
            "5249/5249 [==============================] - 0s 38us/step - loss: 0.4734 - acc: 0.7841\n",
            "Epoch 3/3\n",
            "5249/5249 [==============================] - 0s 38us/step - loss: 0.3996 - acc: 0.8028\n",
            "Epoch 1/3\n",
            "5250/5250 [==============================] - 1s 160us/step - loss: 0.6611 - acc: 0.7379\n",
            "Epoch 2/3\n",
            "5250/5250 [==============================] - 0s 38us/step - loss: 0.5162 - acc: 0.7848\n",
            "Epoch 3/3\n",
            "5250/5250 [==============================] - 0s 44us/step - loss: 0.3900 - acc: 0.8493\n",
            "Epoch 1/3\n",
            "5249/5249 [==============================] - 1s 161us/step - loss: 0.6176 - acc: 0.7664\n",
            "Epoch 2/3\n",
            "5249/5249 [==============================] - 0s 36us/step - loss: 0.4853 - acc: 0.7689\n",
            "Epoch 3/3\n",
            "5249/5249 [==============================] - 0s 37us/step - loss: 0.4232 - acc: 0.8017\n",
            "Epoch 1/3\n",
            "5250/5250 [==============================] - 1s 171us/step - loss: 0.6317 - acc: 0.7632\n",
            "Epoch 2/3\n",
            "5250/5250 [==============================] - 0s 36us/step - loss: 0.4951 - acc: 0.7804\n",
            "Epoch 3/3\n",
            "5250/5250 [==============================] - 0s 37us/step - loss: 0.4122 - acc: 0.8078\n",
            "Epoch 1/3\n",
            "10499/10499 [==============================] - 1s 129us/step - loss: 0.5098 - acc: 0.7725\n",
            "Epoch 2/3\n",
            "10499/10499 [==============================] - 1s 65us/step - loss: 0.3525 - acc: 0.8071\n",
            "Epoch 3/3\n",
            "10499/10499 [==============================] - 1s 64us/step - loss: 0.2942 - acc: 0.8338\n"
          ],
          "name": "stdout"
        }
      ]
    },
    {
      "cell_type": "code",
      "metadata": {
        "id": "gj1CjnB5NXIv",
        "colab_type": "code",
        "colab": {}
      },
      "source": [
        "best_param = grid_search.best_params_\n",
        "best_accuracy = grid_search.best_score_"
      ],
      "execution_count": 0,
      "outputs": []
    },
    {
      "cell_type": "code",
      "metadata": {
        "id": "vMekw6w1NaU-",
        "colab_type": "code",
        "colab": {
          "base_uri": "https://localhost:8080/",
          "height": 34
        },
        "outputId": "e491418c-5944-4530-bd45-48c51b53dd3a"
      },
      "source": [
        "best_param"
      ],
      "execution_count": 33,
      "outputs": [
        {
          "output_type": "execute_result",
          "data": {
            "text/plain": [
              "{'batch_size': 20, 'epochs': 3, 'optimizer': 'rmsprop'}"
            ]
          },
          "metadata": {
            "tags": []
          },
          "execution_count": 33
        }
      ]
    },
    {
      "cell_type": "code",
      "metadata": {
        "id": "--1xoH0NNkV_",
        "colab_type": "code",
        "colab": {
          "base_uri": "https://localhost:8080/",
          "height": 34
        },
        "outputId": "661dfcc2-ba53-481b-d99c-08586c615274"
      },
      "source": [
        "best_accuracy"
      ],
      "execution_count": 34,
      "outputs": [
        {
          "output_type": "execute_result",
          "data": {
            "text/plain": [
              "0.8713210781979236"
            ]
          },
          "metadata": {
            "tags": []
          },
          "execution_count": 34
        }
      ]
    }
  ]
}